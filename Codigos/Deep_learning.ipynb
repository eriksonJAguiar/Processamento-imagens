{
 "cells": [
  {
   "attachments": {},
   "cell_type": "markdown",
   "metadata": {},
   "source": [
    "# Tutorial de Deep Learning -- Pytorch"
   ]
  },
  {
   "attachments": {},
   "cell_type": "markdown",
   "metadata": {},
   "source": [
    "## Carregamento dos dados"
   ]
  },
  {
   "cell_type": "code",
   "execution_count": 37,
   "metadata": {},
   "outputs": [],
   "source": [
    "## Importar as bibliotecas para carregar os dados com o pytorch\n",
    "import torch\n",
    "import os\n",
    "import numpy as np\n",
    "from torchvision import transforms, datasets, utils\n",
    "import matplotlib.pyplot as plt"
   ]
  },
  {
   "attachments": {},
   "cell_type": "markdown",
   "metadata": {},
   "source": [
    "### Base MNIST"
   ]
  },
  {
   "attachments": {},
   "cell_type": "markdown",
   "metadata": {},
   "source": [
    "**Carregar as imagens da MNist e normalizar**"
   ]
  },
  {
   "cell_type": "code",
   "execution_count": 30,
   "metadata": {},
   "outputs": [],
   "source": [
    "#Aplicar a normalização na imagem\n",
    "tf_image = transforms.Compose([transforms.ToTensor(),\n",
    "                               transforms.Lambda(lambda x: x.repeat(3, 1, 1)), \n",
    "                               transforms.Normalize((0.5,), (0.5,))])\n",
    "#importar a mnist\n",
    "train_dataset = datasets.MNIST(root='./data', train=True, download=True, transform=tf_image)\n",
    "test_datset = datasets.MNIST(root='./data', train=False, download=True, transform=tf_image)"
   ]
  },
  {
   "attachments": {},
   "cell_type": "markdown",
   "metadata": {},
   "source": [
    "**Consultar o número de exemplos**"
   ]
  },
  {
   "cell_type": "code",
   "execution_count": 31,
   "metadata": {},
   "outputs": [
    {
     "name": "stdout",
     "output_type": "stream",
     "text": [
      "num exemplos no treino: 60000\n",
      "num exemplos no teste: 10000\n"
     ]
    }
   ],
   "source": [
    "print(f\"num exemplos no treino: {len(train_dataset)}\")\n",
    "print(f\"num exemplos no teste: {len(test_datset)}\")"
   ]
  },
  {
   "attachments": {},
   "cell_type": "markdown",
   "metadata": {},
   "source": [
    "**Mostrar alguns exemplos de imagens**"
   ]
  },
  {
   "cell_type": "code",
   "execution_count": 34,
   "metadata": {},
   "outputs": [
    {
     "name": "stdout",
     "output_type": "stream",
     "text": [
      "Epoch 0: 100%|██████████| 1875/1875 [36:59<00:00,  1.18s/it, v_num=7, loss=2.350, acc=0.113, f1_score=0.020] \n",
      "                                                                   \r"
     ]
    },
    {
     "data": {
      "image/png": "[encoded data removed]",
      "text/plain": [
       "<Figure size 750x400 with 10 Axes>"
      ]
     },
     "metadata": {},
     "output_type": "display_data"
    }
   ],
   "source": [
    "#Mostrar as imagens\n",
    "num_row = 2\n",
    "num_col = 5\n",
    "\n",
    "plt.figure(figsize=(1.5*num_col,2*num_row))\n",
    "for i in range(10):\n",
    "    image, label = train_dataset[i]\n",
    "    plt.subplot(num_row,num_col,i+1)\n",
    "    plt.imshow(image[0].reshape(28,28), cmap='gray')\n",
    "    plt.title('Label: {}'.format(label))\n",
    "    plt.axis(\"off\")\n",
    "plt.show()"
   ]
  },
  {
   "attachments": {},
   "cell_type": "markdown",
   "metadata": {},
   "source": [
    "Transformar dados em um dataloader"
   ]
  },
  {
   "cell_type": "code",
   "execution_count": 35,
   "metadata": {},
   "outputs": [],
   "source": [
    "train_loader = torch.utils.data.DataLoader(train_dataset, batch_size=32, num_workers=8, shuffle=True)\n",
    "test_loader = torch.utils.data.DataLoader(test_datset, batch_size=32, num_workers=8, shuffle=False)"
   ]
  },
  {
   "attachments": {},
   "cell_type": "markdown",
   "metadata": {},
   "source": [
    "### Base de imagens de CT-Scan"
   ]
  },
  {
   "attachments": {},
   "cell_type": "markdown",
   "metadata": {},
   "source": [
    "**Criar o custom dataset**"
   ]
  },
  {
   "cell_type": "code",
   "execution_count": 38,
   "metadata": {},
   "outputs": [],
   "source": [
    "from torchvision.datasets import ImageFolder"
   ]
  },
  {
   "cell_type": "code",
   "execution_count": 46,
   "metadata": {},
   "outputs": [],
   "source": [
    "class CTDataset(torch.utils.data.Dataset):\n",
    "    '''\n",
    "        classe para importar imagens de uma classe especifica\n",
    "        fonte: https://www.kaggle.com/datasets/mohamedhanyyy/chest-ctscan-images\n",
    "        params:\n",
    "            - path: caminho para o repositório de imagens\n",
    "            - tf_image: normaliza a imagem\n",
    "    '''\n",
    "    def __init__(self, path, tf_image, train=True, test=False, val=False):\n",
    "        \n",
    "        #selecionar a partição de dados que será coletada da pasta\n",
    "        if test:\n",
    "            self.data = ImageFolder(root=os.path.join(path, 'test'), transform=tf_image)\n",
    "        elif val:\n",
    "            self.data = ImageFolder(root=os.path.join(path, 'valid'), transform=tf_image)\n",
    "        else:\n",
    "            self.data = ImageFolder(root=os.path.join(path, 'train'), transform=tf_image)\n",
    "        \n",
    "        # self.X = []\n",
    "        # self.y = []\n",
    "        \n",
    "        # self.X, self.y = zip(*[(x, y) for x, y in self.dataset])\n",
    "        \n",
    "        # self.X = torch.stack(list(self.X))\n",
    "        # self.y = torch.tensor(list(self.y))\n",
    "    def __len__(self):\n",
    "        return len(self.data)\n",
    "    \n",
    "    def __getitem__(self, idx):\n",
    "        x = self.data[idx][0]\n",
    "        y = self.data[idx][1]\n",
    "        \n",
    "        return x, y"
   ]
  },
  {
   "cell_type": "code",
   "execution_count": 47,
   "metadata": {},
   "outputs": [],
   "source": [
    "tf_image = transforms.Compose([ transforms.Resize((224, 224)),\n",
    "                                transforms.ToTensor(),  \n",
    "                                transforms.Normalize(mean=[0.485, 0.456, 0.406], std=[0.229, 0.224, 0.225]),\n",
    "])"
   ]
  },
  {
   "cell_type": "code",
   "execution_count": 48,
   "metadata": {},
   "outputs": [],
   "source": [
    "train_data_ct = CTDataset(path=\"./data/CT/\", tf_image=tf_image, train=True)\n",
    "test_data_ct = CTDataset(path=\"./data/CT/\", tf_image=tf_image, train=False, test=True)"
   ]
  },
  {
   "cell_type": "code",
   "execution_count": 50,
   "metadata": {},
   "outputs": [],
   "source": [
    "train_loader_ct = torch.utils.data.DataLoader(train_data_ct, batch_size=32, num_workers=8, shuffle=True)\n",
    "test_loader_ct = torch.utils.data.DataLoader(test_data_ct, batch_size=32, num_workers=8, shuffle=False)"
   ]
  },
  {
   "attachments": {},
   "cell_type": "markdown",
   "metadata": {},
   "source": [
    "## Construir o modelo"
   ]
  },
  {
   "attachments": {},
   "cell_type": "markdown",
   "metadata": {},
   "source": [
    "**Modelo customizado**"
   ]
  },
  {
   "cell_type": "code",
   "execution_count": 17,
   "metadata": {},
   "outputs": [],
   "source": [
    "class MyNet(torch.nn.Module):\n",
    "    #Inicialização da rede\n",
    "    def __init__(self):\n",
    "        super(MyNet, self).__init__()\n",
    "        #A camada convolucional de entrada recebe a image de input e tem como saíde 10 canais\n",
    "        9# n_out = [(input_size + 2*padding - kernel)/stride]+ 1\n",
    "        self.conv1 = torch.nn.Sequential(\n",
    "            torch.nn.Conv2d(in_channels=1, out_channels=16, kernel_size=5, stride=1, padding=2),\n",
    "            torch.nn.ReLU(),\n",
    "            torch.nn.MaxPool2d(kernel_size=2),\n",
    "        )\n",
    "        # A conv 2 tem como entrada os 16 canais da anteriror\n",
    "        self.conv2 = torch.nn.Sequential(\n",
    "            torch.nn.Conv2d(in_channels=16, out_channels=32, kernel_size=5, stride=1, padding=2),\n",
    "            torch.nn.ReLU(),\n",
    "            torch.nn.MaxPool2d(kernel_size=2),\n",
    "            torch.nn.Dropout(p=0.5),\n",
    "        )\n",
    "        #camadas conectadas\n",
    "        self.fc1 = torch.nn.Linear(32*7*7, 50)\n",
    "        #A ultima camada contém o numero de classes\n",
    "        self.fc2 = torch.nn.Linear(50, 10)\n",
    "        self.activation = torch.nn.Softmax(dim=1)\n",
    "    \n",
    "    def forward(self, x):\n",
    "        #add a conv 1\n",
    "        x = self.conv1(x)\n",
    "        #add a conv 2\n",
    "        x= self.conv2(x)\n",
    "        \n",
    "        x = x.view(x.size(0), -1)\n",
    "        x = self.fc1(x)\n",
    "        x = self.fc2(x)\n",
    "        x = self.activation(x)\n",
    "        \n",
    "        return x"
   ]
  },
  {
   "attachments": {},
   "cell_type": "markdown",
   "metadata": {},
   "source": [
    "**Modelo a partir da ResNet50**"
   ]
  },
  {
   "cell_type": "code",
   "execution_count": 24,
   "metadata": {},
   "outputs": [],
   "source": [
    "#Importar as arquiteura limpa\n",
    "from torchvision.models import resnet50\n",
    "from torchvision.models.resnet import ResNet50_Weights"
   ]
  },
  {
   "cell_type": "code",
   "execution_count": 28,
   "metadata": {},
   "outputs": [],
   "source": [
    "#criação e modificação do modelo\n",
    "# Definição do modelo base pre-treinado na ImageNet\n",
    "model_resnet = resnet50(weights=ResNet50_Weights.IMAGENET1K_V1)\n",
    "\n",
    "#Alteração das camadas para adicionar a camada que representa o número de classes\n",
    "model_resnet.fc = torch.nn.Sequential(\n",
    "    torch.nn.Linear(model_resnet.fc.in_features, 10),\n",
    "    torch.nn.Softmax(dim=1)\n",
    ")"
   ]
  },
  {
   "attachments": {},
   "cell_type": "markdown",
   "metadata": {},
   "source": [
    "**Inicializando a rede**"
   ]
  },
  {
   "cell_type": "code",
   "execution_count": 18,
   "metadata": {},
   "outputs": [],
   "source": [
    "network = MyNet()"
   ]
  },
  {
   "attachments": {},
   "cell_type": "markdown",
   "metadata": {},
   "source": [
    "## Treinamento do Modelo"
   ]
  },
  {
   "attachments": {},
   "cell_type": "markdown",
   "metadata": {},
   "source": [
    "**importar as bibliotecas de treinamento o pytorch lightning**"
   ]
  },
  {
   "cell_type": "code",
   "execution_count": 8,
   "metadata": {},
   "outputs": [
    {
     "name": "stderr",
     "output_type": "stream",
     "text": [
      "/usr/lib/python3/dist-packages/pkg_resources/__init__.py:116: PkgResourcesDeprecationWarning: 0.1.43ubuntu1 is an invalid version and will not be supported in a future release\n",
      "  warnings.warn(\n",
      "/usr/lib/python3/dist-packages/pkg_resources/__init__.py:116: PkgResourcesDeprecationWarning: 0.1.43ubuntu1 is an invalid version and will not be supported in a future release\n",
      "  warnings.warn(\n"
     ]
    }
   ],
   "source": [
    "import lightning as L\n",
    "from lightning.pytorch.callbacks.early_stopping import EarlyStopping\n",
    "from lightning.pytorch.loggers import TensorBoardLogger\n",
    "from torchmetrics import Accuracy, F1Score\n"
   ]
  },
  {
   "attachments": {},
   "cell_type": "markdown",
   "metadata": {},
   "source": [
    "### Classe para o treinamento do modelo com o pytorch"
   ]
  },
  {
   "cell_type": "code",
   "execution_count": 19,
   "metadata": {},
   "outputs": [],
   "source": [
    "class TrainTestModel(L.LightningModule):\n",
    "    '''\n",
    "        Classe para configuração do treinamento do modelo\n",
    "        params:\n",
    "            - model: model base para o treinamento\n",
    "            - lr: taxa de aprendizado\n",
    "    '''\n",
    "    def __init__(self, model, lr):\n",
    "        super().__init__()\n",
    "        self.model = model\n",
    "        self.lr = lr\n",
    "        \n",
    "        #definindo a função de perda\n",
    "        self.loss = torch.nn.CrossEntropyLoss()\n",
    "        \n",
    "        #configuração das metricas\n",
    "        self.train_acc = Accuracy(task='multiclass', num_classes=10)\n",
    "        self.test_acc = Accuracy(task='multiclass', num_classes=10)\n",
    "        \n",
    "        self.train_f1 = F1Score(task=\"multiclass\", num_classes=10, average=\"macro\")\n",
    "        self.test_f1 = F1Score(task=\"multiclass\", num_classes=10, average=\"macro\")\n",
    "        \n",
    "\n",
    "    def forward(self, x):\n",
    "        return self.model(x)\n",
    "    \n",
    "    def training_step(self, batch, batch_idx):\n",
    "        #coleta os labels e imagens o batch\n",
    "        x, y = batch\n",
    "        \n",
    "        #resultado da saida da rede, que é a softmax\n",
    "        outputs = self.forward(x)\n",
    "        \n",
    "        #calculando a perda\n",
    "        y_true = y.squeeze()\n",
    "        loss_value = self.loss(outputs, y_true)\n",
    "        \n",
    "        #coletando os labels preditos\n",
    "        y_pred = torch.argmax(outputs, dim=1)\n",
    "        \n",
    "        acc = self.train_acc(y_pred, y_true)\n",
    "        f1 = self.train_f1(y_pred, y_true)\n",
    "        \n",
    "        self.log('loss', loss_value.item(), prog_bar=True)\n",
    "        self.log('acc', acc, prog_bar=True)\n",
    "        self.log('f1_score', f1, prog_bar=True)\n",
    "        \n",
    "        \n",
    "        return loss_value\n",
    "    \n",
    "    def validation_step(self, batch, batch_idx):\n",
    "        #coleta os labels e imagens o batch\n",
    "        x, y = batch\n",
    "        \n",
    "        #resultado da saida da rede, que é a softmax\n",
    "        outputs = self.forward(x)\n",
    "        \n",
    "        #calculando a perda\n",
    "        y_true = y.squeeze()\n",
    "        loss_value = self.loss(outputs, y_true)\n",
    "        \n",
    "        #coletando os labels preditos\n",
    "        y_pred = torch.argmax(outputs, dim=1)\n",
    "        \n",
    "        acc = self.test_acc(y_pred, y_true)\n",
    "        f1 = self.test_f1(y_pred, y_true)\n",
    "        \n",
    "        self.log('val_loss', loss_value.item(), prog_bar=True)\n",
    "        self.log('val_acc', acc, prog_bar=True)\n",
    "        self.log('val_f1_score', f1, prog_bar=True)\n",
    "        \n",
    "        return loss_value\n",
    "\n",
    "    def configure_optimizers(self):\n",
    "        opt = torch.optim.Adam(self.model.parameters(), lr=self.lr)\n",
    "        \n",
    "        return [opt]"
   ]
  },
  {
   "attachments": {},
   "cell_type": "markdown",
   "metadata": {},
   "source": [
    "### Execução do Treinamento"
   ]
  },
  {
   "attachments": {},
   "cell_type": "markdown",
   "metadata": {},
   "source": [
    "**Treinamento para o model customizado**"
   ]
  },
  {
   "cell_type": "code",
   "execution_count": 21,
   "metadata": {},
   "outputs": [
    {
     "name": "stderr",
     "output_type": "stream",
     "text": [
      "GPU available: True (cuda), used: True\n",
      "TPU available: False, using: 0 TPU cores\n",
      "IPU available: False, using: 0 IPUs\n",
      "HPU available: False, using: 0 HPUs\n",
      "Missing logger folder: /home/eriksonaguiar/codes/SCC0651-2-ProcessamentoImagens/Codigos/lightning_logs\n",
      "LOCAL_RANK: 0 - CUDA_VISIBLE_DEVICES: [0]\n",
      "\n",
      "  | Name      | Type               | Params\n",
      "-------------------------------------------------\n",
      "0 | model     | MyNet              | 92.2 K\n",
      "1 | loss      | CrossEntropyLoss   | 0     \n",
      "2 | train_acc | MulticlassAccuracy | 0     \n",
      "3 | test_acc  | MulticlassAccuracy | 0     \n",
      "4 | train_f1  | MulticlassF1Score  | 0     \n",
      "5 | test_f1   | MulticlassF1Score  | 0     \n",
      "-------------------------------------------------\n",
      "92.2 K    Trainable params\n",
      "0         Non-trainable params\n",
      "92.2 K    Total params\n",
      "0.369     Total estimated model params size (MB)\n"
     ]
    },
    {
     "name": "stdout",
     "output_type": "stream",
     "text": [
      "Epoch 9: 100%|██████████| 1875/1875 [00:12<00:00, 153.76it/s, v_num=0, loss=2.350, acc=0.113, f1_score=0.020]   "
     ]
    },
    {
     "name": "stderr",
     "output_type": "stream",
     "text": [
      "`Trainer.fit` stopped: `max_epochs=10` reached.\n"
     ]
    },
    {
     "name": "stdout",
     "output_type": "stream",
     "text": [
      "Epoch 9: 100%|██████████| 1875/1875 [00:12<00:00, 153.68it/s, v_num=0, loss=2.350, acc=0.113, f1_score=0.020]\n",
      "{'loss': tensor(2.3476), 'acc': tensor(0.1135), 'f1_score': tensor(0.0200)}\n"
     ]
    }
   ],
   "source": [
    "# carregar o module de treinamento\n",
    "ligth_train = TrainTestModel(model=network, lr=0.01)\n",
    "\n",
    "#configuração do early stopping\n",
    "early = EarlyStopping(monitor='val_acc', min_delta=0.01, patience=5, mode='max')\n",
    "\n",
    "#configuração do tensorboard para salvar os experimentos\n",
    "#logger = TensorBoardLogger(save_dir=\"logs\", name=\"my-model\")\n",
    "\n",
    "#modulo para execução do treinamento\n",
    "trainer = L.Trainer(\n",
    "    max_epochs=10,\n",
    "    accelerator='gpu',\n",
    "    devices='auto',\n",
    "    min_epochs=5,\n",
    "    #logger=logger,\n",
    "    #callbacks=[early]\n",
    ")\n",
    "\n",
    "#executar o treinamento e teste\n",
    "trainer.fit(\n",
    "    model=ligth_train,\n",
    "    train_dataloaders=train_loader,\n",
    "    val_dataloaders=test_loader\n",
    ")\n",
    "\n",
    "metrics = trainer.logged_metrics\n",
    "print(metrics)"
   ]
  },
  {
   "attachments": {},
   "cell_type": "markdown",
   "metadata": {},
   "source": [
    "**Treinamento com a ResNet**"
   ]
  },
  {
   "cell_type": "code",
   "execution_count": 36,
   "metadata": {},
   "outputs": [
    {
     "name": "stderr",
     "output_type": "stream",
     "text": [
      "GPU available: True (cuda), used: True\n",
      "TPU available: False, using: 0 TPU cores\n",
      "IPU available: False, using: 0 IPUs\n",
      "HPU available: False, using: 0 HPUs\n",
      "LOCAL_RANK: 0 - CUDA_VISIBLE_DEVICES: [0]\n",
      "\n",
      "  | Name      | Type               | Params\n",
      "-------------------------------------------------\n",
      "0 | model     | ResNet             | 23.5 M\n",
      "1 | loss      | CrossEntropyLoss   | 0     \n",
      "2 | train_acc | MulticlassAccuracy | 0     \n",
      "3 | test_acc  | MulticlassAccuracy | 0     \n",
      "4 | train_f1  | MulticlassF1Score  | 0     \n",
      "5 | test_f1   | MulticlassF1Score  | 0     \n",
      "-------------------------------------------------\n",
      "23.5 M    Trainable params\n",
      "0         Non-trainable params\n",
      "23.5 M    Total params\n",
      "94.114    Total estimated model params size (MB)\n"
     ]
    },
    {
     "name": "stdout",
     "output_type": "stream",
     "text": [
      "Epoch 9: 100%|██████████| 1875/1875 [00:47<00:00, 39.41it/s, v_num=3, loss=1.480, acc=0.981, f1_score=0.952]"
     ]
    },
    {
     "name": "stderr",
     "output_type": "stream",
     "text": [
      "`Trainer.fit` stopped: `max_epochs=10` reached.\n"
     ]
    },
    {
     "name": "stdout",
     "output_type": "stream",
     "text": [
      "Epoch 9: 100%|██████████| 1875/1875 [00:48<00:00, 38.95it/s, v_num=3, loss=1.480, acc=0.981, f1_score=0.952]\n",
      "{'loss': tensor(1.4805), 'acc': tensor(0.9806), 'f1_score': tensor(0.9524)}\n"
     ]
    }
   ],
   "source": [
    "# carregar o module de treinamento\n",
    "ligth_train = TrainTestModel(model=model_resnet, lr=0.001)\n",
    "\n",
    "#configuração do early stopping\n",
    "early = EarlyStopping(monitor='val_acc', min_delta=0.01, patience=5, mode='max')\n",
    "\n",
    "#configuração do tensorboard para salvar os experimentos\n",
    "#logger = TensorBoardLogger(save_dir=\"logs\", name=\"my-model\")\n",
    "\n",
    "#modulo para execução do treinamento\n",
    "trainer = L.Trainer(\n",
    "    max_epochs=10,\n",
    "    accelerator='gpu',\n",
    "    devices='auto',\n",
    "    min_epochs=5,\n",
    "    #logger=logger,\n",
    "    #callbacks=[early]\n",
    ")\n",
    "\n",
    "#executar o treinamento e teste\n",
    "trainer.fit(\n",
    "    model=ligth_train,\n",
    "    train_dataloaders=train_loader,\n",
    "    val_dataloaders=test_loader\n",
    ")\n",
    "\n",
    "metrics = trainer.logged_metrics\n",
    "print(metrics)"
   ]
  },
  {
   "attachments": {},
   "cell_type": "markdown",
   "metadata": {},
   "source": [
    "**Treinamento para a base de CT**"
   ]
  },
  {
   "cell_type": "code",
   "execution_count": 51,
   "metadata": {},
   "outputs": [
    {
     "name": "stderr",
     "output_type": "stream",
     "text": [
      "GPU available: True (cuda), used: True\n",
      "TPU available: False, using: 0 TPU cores\n",
      "IPU available: False, using: 0 IPUs\n",
      "HPU available: False, using: 0 HPUs\n",
      "LOCAL_RANK: 0 - CUDA_VISIBLE_DEVICES: [0]\n",
      "\n",
      "  | Name      | Type               | Params\n",
      "-------------------------------------------------\n",
      "0 | model     | ResNet             | 23.5 M\n",
      "1 | loss      | CrossEntropyLoss   | 0     \n",
      "2 | train_acc | MulticlassAccuracy | 0     \n",
      "3 | test_acc  | MulticlassAccuracy | 0     \n",
      "4 | train_f1  | MulticlassF1Score  | 0     \n",
      "5 | test_f1   | MulticlassF1Score  | 0     \n",
      "-------------------------------------------------\n",
      "23.5 M    Trainable params\n",
      "0         Non-trainable params\n",
      "23.5 M    Total params\n",
      "94.114    Total estimated model params size (MB)\n"
     ]
    },
    {
     "name": "stdout",
     "output_type": "stream",
     "text": [
      "                                                                           \r"
     ]
    },
    {
     "name": "stderr",
     "output_type": "stream",
     "text": [
      "/home/eriksonaguiar/.local/lib/python3.10/site-packages/lightning/pytorch/loops/fit_loop.py:280: PossibleUserWarning: The number of training batches (20) is smaller than the logging interval Trainer(log_every_n_steps=50). Set a lower value for log_every_n_steps if you want to see logs for the training epoch.\n",
      "  rank_zero_warn(\n"
     ]
    },
    {
     "name": "stdout",
     "output_type": "stream",
     "text": [
      "Epoch 9: 100%|██████████| 20/20 [00:05<00:00,  3.80it/s, v_num=4, loss=2.060, acc=0.390, f1_score=0.0674]"
     ]
    },
    {
     "name": "stderr",
     "output_type": "stream",
     "text": [
      "`Trainer.fit` stopped: `max_epochs=10` reached.\n"
     ]
    },
    {
     "name": "stdout",
     "output_type": "stream",
     "text": [
      "Epoch 9: 100%|██████████| 20/20 [00:05<00:00,  3.43it/s, v_num=4, loss=2.060, acc=0.390, f1_score=0.0674]\n",
      "{'loss': tensor(2.0565), 'acc': tensor(0.3905), 'f1_score': tensor(0.0674)}\n"
     ]
    }
   ],
   "source": [
    "# carregar o module de treinamento\n",
    "ligth_train = TrainTestModel(model=model_resnet, lr=0.001)\n",
    "\n",
    "#configuração do early stopping\n",
    "early = EarlyStopping(monitor='val_acc', min_delta=0.01, patience=5, mode='max')\n",
    "\n",
    "#configuração do tensorboard para salvar os experimentos\n",
    "#logger = TensorBoardLogger(save_dir=\"logs\", name=\"my-model\")\n",
    "\n",
    "#modulo para execução do treinamento\n",
    "trainer = L.Trainer(\n",
    "    max_epochs=10,\n",
    "    accelerator='gpu',\n",
    "    devices='auto',\n",
    "    min_epochs=5,\n",
    "    #logger=logger,\n",
    "    #callbacks=[early]\n",
    ")\n",
    "\n",
    "#executar o treinamento e teste\n",
    "trainer.fit(\n",
    "    model=ligth_train,\n",
    "    train_dataloaders=train_loader,\n",
    "    val_dataloaders=test_loader\n",
    ")\n",
    "\n",
    "metrics = trainer.logged_metrics\n",
    "print(metrics)"
   ]
  }
 ],
 "metadata": {
  "kernelspec": {
   "display_name": "Python 3",
   "language": "python",
   "name": "python3"
  },
  "language_info": {
   "codemirror_mode": {
    "name": "ipython",
    "version": 3
   },
   "file_extension": ".py",
   "mimetype": "text/x-python",
   "name": "python",
   "nbconvert_exporter": "python",
   "pygments_lexer": "ipython3",
   "version": "3.10.6"
  },
  "orig_nbformat": 4
 },
 "nbformat": 4,
 "nbformat_minor": 2
}
