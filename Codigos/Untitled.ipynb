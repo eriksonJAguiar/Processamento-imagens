{
 "cells": [
  {
   "cell_type": "code",
   "execution_count": 1,
   "id": "4292421b-23b5-44e2-b8e6-976bc5aa6ec4",
   "metadata": {
    "tags": []
   },
   "outputs": [],
   "source": [
    "import numpy as np"
   ]
  },
  {
   "cell_type": "markdown",
   "id": "113e49bf-1d6c-4971-97d0-0aa90f022c55",
   "metadata": {},
   "source": [
    "## PDI"
   ]
  }
 ],
 "metadata": {
  "kernelspec": {
   "display_name": "Python 3 (ipykernel)",
   "language": "python",
   "name": "python3"
  },
  "language_info": {
   "codemirror_mode": {
    "name": "ipython",
    "version": 3
   },
   "file_extension": ".py",
   "mimetype": "text/x-python",
   "name": "python",
   "nbconvert_exporter": "python",
   "pygments_lexer": "ipython3",
   "version": "3.9.16"
  }
 },
 "nbformat": 4,
 "nbformat_minor": 5
}
